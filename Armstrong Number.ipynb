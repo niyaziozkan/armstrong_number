{
 "cells": [
  {
   "cell_type": "code",
   "execution_count": 50,
   "metadata": {
    "scrolled": false
   },
   "outputs": [
    {
     "name": "stdout",
     "output_type": "stream",
     "text": [
      "Please enter a number: 5\n",
      "5 is an Armstrong number.\n"
     ]
    }
   ],
   "source": [
    "while True:\n",
    "    a = input(\"Please enter a number: \")\n",
    "    total = 0\n",
    "    if a.isnumeric():\n",
    "        for i in range(len(a)):\n",
    "            total = total + int(a[i]) ** len(a)\n",
    "        if total == int(a):\n",
    "            print(f\"{a} is an Armstrong number.\")\n",
    "            break\n",
    "        else:\n",
    "            print(f\"{a} is not an Armstrong number.\")\n",
    "            break\n",
    "    else:\n",
    "        print(\"It is an invalid entry. Don't use non-numeric, float, or negative values!\")\n",
    "\n"
   ]
  }
 ],
 "metadata": {
  "kernelspec": {
   "display_name": "Python 3",
   "language": "python",
   "name": "python3"
  },
  "language_info": {
   "codemirror_mode": {
    "name": "ipython",
    "version": 3
   },
   "file_extension": ".py",
   "mimetype": "text/x-python",
   "name": "python",
   "nbconvert_exporter": "python",
   "pygments_lexer": "ipython3",
   "version": "3.8.3"
  }
 },
 "nbformat": 4,
 "nbformat_minor": 4
}
